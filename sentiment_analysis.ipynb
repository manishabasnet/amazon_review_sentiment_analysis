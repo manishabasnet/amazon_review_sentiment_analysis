{
 "cells": [
  {
   "cell_type": "code",
   "execution_count": 4,
   "id": "417229d5-d3c7-40e3-b254-5a5eb6802d24",
   "metadata": {},
   "outputs": [],
   "source": [
    "import pandas as pd\n",
    "from datasets import load_dataset"
   ]
  },
  {
   "cell_type": "code",
   "execution_count": 5,
   "id": "43322f69-4436-4f31-952e-bd2c9c606009",
   "metadata": {},
   "outputs": [],
   "source": [
    "import zipfile\n",
    "\n",
    "with zipfile.ZipFile('amazonreviews.zip', 'r') as zip_ref:\n",
    "    zip_ref.extractall('unzipped')"
   ]
  },
  {
   "cell_type": "code",
   "execution_count": 6,
   "id": "37fb60c7-f6d9-4e24-b8f4-8d1a65d00d26",
   "metadata": {},
   "outputs": [],
   "source": [
    "train_data = pd.read_csv('unzipped/train.ft.txt.bz2', compression='bz2', delimiter='\\t', header=None)\n",
    "test_data = pd.read_csv('unzipped/test.ft.txt.bz2', compression='bz2', delimiter='\\t', header=None)"
   ]
  },
  {
   "cell_type": "code",
   "execution_count": 7,
   "id": "d24bb261-f758-4d62-9aeb-d9ec3b8d8d92",
   "metadata": {},
   "outputs": [
    {
     "name": "stdout",
     "output_type": "stream",
     "text": [
      "                                                   0\n",
      "0  __label__2 Stuning even for the non-gamer: Thi...\n",
      "1  __label__2 The best soundtrack ever to anythin...\n",
      "2  __label__2 Amazing!: This soundtrack is my fav...\n",
      "3  __label__2 Excellent Soundtrack: I truly like ...\n",
      "4  __label__2 Remember, Pull Your Jaw Off The Flo...\n",
      "                                                   0\n",
      "0  __label__2 Great CD: My lovely Pat has one of ...\n",
      "1  __label__2 One of the best game music soundtra...\n",
      "2  __label__1 Batteries died within a year ...: I...\n",
      "3  __label__2 works fine, but Maha Energy is bett...\n",
      "4  __label__2 Great for the non-audiophile: Revie...\n"
     ]
    }
   ],
   "source": [
    "print(train_data.head())\n",
    "print(test_data.head())"
   ]
  },
  {
   "cell_type": "code",
   "execution_count": 8,
   "id": "05e8d3aa-7288-4e0d-8cb5-52df22163383",
   "metadata": {},
   "outputs": [],
   "source": [
    "def data_view(file):                  \n",
    "    data = []                                   \n",
    "    for index, row in file.iterrows():          \n",
    "        line = row[0]                           \n",
    "        label, text = line.split(' ', 1)        \n",
    "        label = label.replace('__label__', '')  \n",
    "        data.append((label, text.strip()))      \n",
    "    cols = ['label', 'content']                  \n",
    "    return pd.DataFrame(data, columns=cols) \n",
    "\n",
    "train = data_view(train_data)\n",
    "train['content'] = train['content'].fillna('')\n",
    "test = data_view(test_data)"
   ]
  },
  {
   "cell_type": "code",
   "execution_count": 9,
   "id": "fc6c5400-5d29-46b9-b6d5-0b94263c09c5",
   "metadata": {},
   "outputs": [
    {
     "name": "stdout",
     "output_type": "stream",
     "text": [
      "label\n",
      "2    1800000\n",
      "1    1800000\n",
      "Name: count, dtype: int64\n"
     ]
    }
   ],
   "source": [
    "#Checking the label distribution\n",
    "print(train['label'].value_counts())"
   ]
  },
  {
   "cell_type": "markdown",
   "id": "8ea46531-d4f7-4716-aa3e-c3d255052add",
   "metadata": {},
   "source": [
    "# Hypothesis 1: positive reviews are longer"
   ]
  },
  {
   "cell_type": "code",
   "execution_count": 10,
   "id": "01840f57-87ca-4ba7-beb3-4146833d0c52",
   "metadata": {},
   "outputs": [],
   "source": [
    "import nltk\n",
    "import re\n",
    "from nltk.tokenize import word_tokenize\n",
    "from nltk.stem import PorterStemmer"
   ]
  },
  {
   "cell_type": "code",
   "execution_count": 11,
   "id": "34925e15-6a64-4044-ab9f-79cabe657ea3",
   "metadata": {},
   "outputs": [
    {
     "name": "stdout",
     "output_type": "stream",
     "text": [
      "Shape of TF-IDF matrix: (3600000, 5000)\n",
      "Number of features: 5000\n",
      "First few feature names: ['00' '000' '10' '100' '1000' '11' '12' '120' '13' '14']\n"
     ]
    }
   ],
   "source": [
    "from sklearn.feature_extraction.text import TfidfVectorizer\n",
    "\n",
    "# Initialize TF-IDF Vectorizer\n",
    "vectorizer = TfidfVectorizer(\n",
    "    max_features=5000,  # Limit to top 5000 features\n",
    "    stop_words='english'  # Use built-in English stop words\n",
    ")\n",
    "\n",
    "# Fit and transform the text data\n",
    "X = vectorizer.fit_transform(train['content'])\n",
    "\n",
    "# Get feature names\n",
    "feature_names = vectorizer.get_feature_names_out()\n",
    "\n",
    "print(\"Shape of TF-IDF matrix:\", X.shape)\n",
    "print(\"Number of features:\", len(feature_names))\n",
    "print(\"First few feature names:\", feature_names[:10])"
   ]
  },
  {
   "cell_type": "code",
   "execution_count": 12,
   "id": "511741d3-9b23-4398-ba7e-8dac051564b7",
   "metadata": {},
   "outputs": [
    {
     "name": "stdout",
     "output_type": "stream",
     "text": [
      "label\n",
      "1    447.454261\n",
      "2    415.838369\n",
      "Name: review_length, dtype: float64\n"
     ]
    }
   ],
   "source": [
    "train['review_length'] = train['content'].apply(len)\n",
    "length_means = train.groupby('label')['review_length'].mean()\n",
    "print(length_means)"
   ]
  },
  {
   "cell_type": "markdown",
   "id": "196db166-48ce-4b0d-9176-e1841b9f4049",
   "metadata": {},
   "source": [
    "#Write conclucsion on length hypothesis here"
   ]
  },
  {
   "cell_type": "markdown",
   "id": "79df60ed-ee16-4344-b427-218b560a1a28",
   "metadata": {},
   "source": [
    "# Hypothesis2: Are the reviews with shipping mentioned more positive"
   ]
  },
  {
   "cell_type": "code",
   "execution_count": 13,
   "id": "d42fb551-6640-477c-82c3-491ea443742d",
   "metadata": {},
   "outputs": [],
   "source": [
    "shipping_keywords = [\n",
    "    'shipping', 'delivered', 'delivery', 'amazon logistics', \n",
    "    'ship', 'package', 'shipment', 'carrier', 'arrived'\n",
    "]\n",
    "\n",
    "def has_shipping_mention(text):\n",
    "    text_lower = text.lower()\n",
    "    return any(re.search(r'\\b' + keyword + r'\\b', text_lower) for keyword in shipping_keywords)"
   ]
  },
  {
   "cell_type": "code",
   "execution_count": 14,
   "id": "59e7a48c-4086-4102-9151-06731b9bb75e",
   "metadata": {},
   "outputs": [
    {
     "name": "stdout",
     "output_type": "stream",
     "text": [
      "Sentiment Distribution of Reviews:\n",
      "(Percentage of reviews)\n",
      "label                         1          2\n",
      "has_shipping_mention                      \n",
      "False                 49.785411  50.214589\n",
      "True                  54.546407  45.453593\n",
      "\n",
      "Count of Reviews:\n",
      "has_shipping_mention\n",
      "False    3437740\n",
      "True      162260\n",
      "Name: count, dtype: int64\n"
     ]
    },
    {
     "data": {
      "image/png": "[encoded data removed]",
      "text/plain": [
       "<Figure size 640x480 with 1 Axes>"
      ]
     },
     "metadata": {},
     "output_type": "display_data"
    }
   ],
   "source": [
    "train['has_shipping_mention'] = train['content'].apply(has_shipping_mention)\n",
    "\n",
    "# Calculate sentiment distribution for reviews with and without shipping mentions\n",
    "shipping_sentiment_summary = train.groupby('has_shipping_mention')['label'].value_counts(normalize=True).unstack() * 100\n",
    "\n",
    "print(\"Sentiment Distribution of Reviews:\")\n",
    "print(\"(Percentage of reviews)\")\n",
    "print(shipping_sentiment_summary)\n",
    "\n",
    "# Count of reviews with shipping mentions\n",
    "shipping_mention_counts = train['has_shipping_mention'].value_counts()\n",
    "print(\"\\nCount of Reviews:\")\n",
    "print(shipping_mention_counts)\n",
    "\n",
    "\n",
    "import matplotlib.pyplot as plt\n",
    "\n",
    "shipping_sentiment_summary.plot(kind='bar', stacked=True)\n",
    "plt.title('Sentiment Distribution by Shipping Mention')\n",
    "plt.xlabel('Contains Shipping Mention')\n",
    "plt.ylabel('Percentage')\n",
    "plt.legend(title='Label', labels=['Negative', 'Positive'])\n",
    "plt.tight_layout()\n",
    "plt.show()"
   ]
  },
  {
   "cell_type": "markdown",
   "id": "c5ac2f62-9cd8-491a-a57a-b4d907d03b17",
   "metadata": {},
   "source": [
    "# As per the plot the reviews with shipping mention is actually more negative"
   ]
  },
  {
   "cell_type": "markdown",
   "id": "43996769-a294-487e-a650-95af5b5452d4",
   "metadata": {},
   "source": [
    "# Sentiment Analysis"
   ]
  },
  {
   "cell_type": "code",
   "execution_count": 15,
   "id": "e087cfac-ad3c-4dfa-8849-8a29b9a20ea6",
   "metadata": {},
   "outputs": [],
   "source": [
    "import numpy as np\n",
    "from sklearn.model_selection import train_test_split\n",
    "from sklearn.linear_model import LogisticRegression\n",
    "from sklearn.metrics import classification_report"
   ]
  },
  {
   "cell_type": "code",
   "execution_count": 16,
   "id": "4057690a-6b30-4aee-b719-a9270f37db8d",
   "metadata": {},
   "outputs": [],
   "source": [
    "def extract_top_tfidf_terms(tfidf_matrix, feature_names, label_indices, n_terms=3000):\n",
    "    \"\"\"Extract top N terms based on TF-IDF scores for a specific label.\"\"\"\n",
    "    avg_tfidf = np.mean(tfidf_matrix[label_indices].toarray(), axis=0)\n",
    "    top_indices = np.argsort(avg_tfidf)[-n_terms:]\n",
    "    \n",
    "    return [feature_names[i] for i in top_indices]\n",
    "\n",
    "def construct_binary_representation(text, significant_terms):\n",
    "    \"\"\"Create binary representation indicating presence/absence of significant terms.\"\"\"\n",
    "    tokens = set(word_tokenize(text.lower()))\n",
    "    return {term: (term in tokens) for term in significant_terms}\n"
   ]
  },
  {
   "cell_type": "code",
   "execution_count": 17,
   "id": "64f13adb-996a-49ed-ac2e-1e994dcaefd6",
   "metadata": {},
   "outputs": [
    {
     "name": "stdout",
     "output_type": "stream",
     "text": [
      "Extracting significant terms per label...\n",
      "Total unique significant terms: 3672\n",
      "Generating binary features for training data...\n"
     ]
    }
   ],
   "source": [
    "# Identify top terms for each label\n",
    "print(\"Extracting significant terms per label...\")\n",
    "significant_terms = set()\n",
    "\n",
    "for label in train['label'].unique():\n",
    "    label_indices = train['label'] == label\n",
    "    top_label_terms = extract_top_tfidf_terms(X, feature_names, label_indices)\n",
    "    significant_terms.update(top_label_terms)\n",
    "\n",
    "print(f\"Total unique significant terms: {len(significant_terms)}\")\n",
    "\n",
    "# Create binary features for training data\n",
    "print(\"Generating binary features for training data...\")\n",
    "X_train_binary = []\n",
    "for text in train['content']:\n",
    "    features = construct_binary_representation(text, significant_terms)\n",
    "    X_train_binary.append([int(v) for v in features.values()])\n",
    "X_train_binary = np.array(X_train_binary)\n",
    "y_train = train['label']"
   ]
  },
  {
   "cell_type": "code",
   "execution_count": 18,
   "id": "9ad6230c-0be9-44ba-abb2-24b58fdcf866",
   "metadata": {},
   "outputs": [],
   "source": [
    "# Split training data into training and validation sets\n",
    "X_train_split, X_val, y_train_split, y_val = train_test_split(\n",
    "    X_train_binary, y_train, test_size=0.2, random_state=42\n",
    ")"
   ]
  },
  {
   "cell_type": "code",
   "execution_count": 19,
   "id": "f868b133-20f6-4d66-b5aa-aaff337f8a6b",
   "metadata": {},
   "outputs": [
    {
     "name": "stdout",
     "output_type": "stream",
     "text": [
      "Training classifier...\n",
      "Validation set evaluation:\n",
      "              precision    recall  f1-score   support\n",
      "\n",
      "           1       0.89      0.87      0.88    359759\n",
      "           2       0.88      0.89      0.88    360241\n",
      "\n",
      "    accuracy                           0.88    720000\n",
      "   macro avg       0.88      0.88      0.88    720000\n",
      "weighted avg       0.88      0.88      0.88    720000\n",
      "\n"
     ]
    }
   ],
   "source": [
    "# Train classification model\n",
    "print(\"Training classifier...\")\n",
    "classifier = LogisticRegression(max_iter=1000)\n",
    "classifier.fit(X_train_split, y_train_split)\n",
    "\n",
    "# Evaluate on validation set\n",
    "print(\"Validation set evaluation:\")\n",
    "y_val_pred = classifier.predict(X_val)\n",
    "print(classification_report(y_val, y_val_pred))"
   ]
  },
  {
   "cell_type": "code",
   "execution_count": 20,
   "id": "71d9b902-9a6b-4d68-a857-5299aaf7dc0d",
   "metadata": {},
   "outputs": [],
   "source": [
    "def predict_text_category(text):\n",
    "    \"\"\"Predict category and probabilities for new text.\"\"\"\n",
    "    features = construct_binary_representation(text, significant_terms)\n",
    "    feature_vector = np.array([int(v) for v in features.values()]).reshape(1, -1)\n",
    "    prediction = classifier.predict(feature_vector)[0]\n",
    "    probabilities = classifier.predict_proba(feature_vector)[0]\n",
    "    return prediction, probabilities\n"
   ]
  },
  {
   "cell_type": "code",
   "execution_count": 21,
   "id": "ac49262a-ae9a-4bab-a22b-cc7c8e60380c",
   "metadata": {},
   "outputs": [
    {
     "name": "stdout",
     "output_type": "stream",
     "text": [
      "Generating binary features for test data...\n",
      "Test set evaluation:\n",
      "              precision    recall  f1-score   support\n",
      "\n",
      "           1       0.89      0.87      0.88    200000\n",
      "           2       0.87      0.89      0.88    200000\n",
      "\n",
      "    accuracy                           0.88    400000\n",
      "   macro avg       0.88      0.88      0.88    400000\n",
      "weighted avg       0.88      0.88      0.88    400000\n",
      "\n",
      "Predicted Label: 1\n",
      "Confidence Scores: [0.6290495 0.3709505]\n"
     ]
    }
   ],
   "source": [
    "# Create binary features for test data\n",
    "print(\"Generating binary features for test data...\")\n",
    "X_test_binary = []\n",
    "for text in test['content']:\n",
    "    features = construct_binary_representation(text, significant_terms)\n",
    "    X_test_binary.append([int(v) for v in features.values()])\n",
    "X_test_binary = np.array(X_test_binary)\n",
    "y_test = test['label']\n",
    "\n",
    "# Evaluate on test set\n",
    "print(\"Test set evaluation:\")\n",
    "y_test_pred = classifier.predict(X_test_binary)\n",
    "print(classification_report(y_test, y_test_pred))\n",
    "\n",
    "# Example prediction\n",
    "example_text = \"If I was a new user, I would be reluctant to buy this product.\"\n",
    "predicted_label, confidence_scores = predict_text_category(example_text)\n",
    "print(f\"Predicted Label: {predicted_label}\")\n",
    "print(f\"Confidence Scores: {confidence_scores}\")"
   ]
  },
  {
   "cell_type": "code",
   "execution_count": null,
   "id": "8af018e7-c833-4a25-8482-6b8a79e75694",
   "metadata": {},
   "outputs": [],
   "source": []
  },
  {
   "cell_type": "code",
   "execution_count": null,
   "id": "508fb7a1-aa03-4d69-940a-b8feee061a51",
   "metadata": {},
   "outputs": [],
   "source": []
  },
  {
   "cell_type": "code",
   "execution_count": null,
   "id": "84396ba0-8f5a-4309-84e6-e58df5cd5f2a",
   "metadata": {},
   "outputs": [],
   "source": []
  }
 ],
 "metadata": {
  "kernelspec": {
   "display_name": "NLP Environment",
   "language": "python",
   "name": "nlp_env"
  },
  "language_info": {
   "codemirror_mode": {
    "name": "ipython",
    "version": 3
   },
   "file_extension": ".py",
   "mimetype": "text/x-python",
   "name": "python",
   "nbconvert_exporter": "python",
   "pygments_lexer": "ipython3",
   "version": "3.11.10"
  }
 },
 "nbformat": 4,
 "nbformat_minor": 5
}
